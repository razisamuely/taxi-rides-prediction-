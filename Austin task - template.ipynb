{
 "cells": [
  {
   "cell_type": "markdown",
   "metadata": {},
   "source": [
    "Congratulations on reaching the assignment stage!\n",
    "\n",
    "On this assignment you will work with a dataset of real life taxi rides and will prepare a basic prediction model, just like we do at Autofleet.\n",
    "\n",
    "Instructions will be provided as you progress through this notebook.\n",
    "\n",
    "Please try to be as detailed and descriptive as possible so that we understand your\n",
    "thought process."
   ]
  },
  {
   "cell_type": "code",
   "execution_count": 1,
   "metadata": {},
   "outputs": [],
   "source": [
    "%matplotlib inline\n",
    "import pandas as pd"
   ]
  },
  {
   "cell_type": "markdown",
   "metadata": {
    "ExecuteTime": {
     "end_time": "2020-05-20T12:20:57.229145Z",
     "start_time": "2020-05-20T12:20:57.117310Z"
    }
   },
   "source": [
    "## Load Data"
   ]
  },
  {
   "cell_type": "code",
   "execution_count": 2,
   "metadata": {
    "ExecuteTime": {
     "end_time": "2020-06-02T09:31:45.752936Z",
     "start_time": "2020-06-02T09:31:39.779467Z"
    }
   },
   "outputs": [
    {
     "data": {
      "text/html": [
       "<div>\n",
       "<style scoped>\n",
       "    .dataframe tbody tr th:only-of-type {\n",
       "        vertical-align: middle;\n",
       "    }\n",
       "\n",
       "    .dataframe tbody tr th {\n",
       "        vertical-align: top;\n",
       "    }\n",
       "\n",
       "    .dataframe thead th {\n",
       "        text-align: right;\n",
       "    }\n",
       "</style>\n",
       "<table border=\"1\" class=\"dataframe\">\n",
       "  <thead>\n",
       "    <tr style=\"text-align: right;\">\n",
       "      <th></th>\n",
       "      <th>RIDE_ID</th>\n",
       "      <th>created_on</th>\n",
       "      <th>created_on_hour</th>\n",
       "      <th>started_on</th>\n",
       "      <th>completed_on</th>\n",
       "      <th>distance_travelled</th>\n",
       "    </tr>\n",
       "  </thead>\n",
       "  <tbody>\n",
       "    <tr>\n",
       "      <th>0</th>\n",
       "      <td>0</td>\n",
       "      <td>2016-06-04 00:10:19</td>\n",
       "      <td>2016-06-04 00:00:00</td>\n",
       "      <td>2016-06-04 00:18:49</td>\n",
       "      <td>2016-06-04 00:27:32</td>\n",
       "      <td>8459.0</td>\n",
       "    </tr>\n",
       "    <tr>\n",
       "      <th>1</th>\n",
       "      <td>1</td>\n",
       "      <td>2016-06-04 01:47:39</td>\n",
       "      <td>2016-06-04 01:00:00</td>\n",
       "      <td>2016-06-04 01:50:12</td>\n",
       "      <td>2016-06-04 01:51:49</td>\n",
       "      <td>443.0</td>\n",
       "    </tr>\n",
       "    <tr>\n",
       "      <th>2</th>\n",
       "      <td>2</td>\n",
       "      <td>2016-06-04 03:13:07</td>\n",
       "      <td>2016-06-04 03:00:00</td>\n",
       "      <td>2016-06-04 03:16:02</td>\n",
       "      <td>2016-06-04 03:17:57</td>\n",
       "      <td>568.0</td>\n",
       "    </tr>\n",
       "    <tr>\n",
       "      <th>3</th>\n",
       "      <td>3</td>\n",
       "      <td>2016-06-04 09:52:35</td>\n",
       "      <td>2016-06-04 09:00:00</td>\n",
       "      <td>2016-06-04 10:05:13</td>\n",
       "      <td>2016-06-04 10:13:38</td>\n",
       "      <td>4051.0</td>\n",
       "    </tr>\n",
       "    <tr>\n",
       "      <th>4</th>\n",
       "      <td>4</td>\n",
       "      <td>2016-06-04 10:23:25</td>\n",
       "      <td>2016-06-04 10:00:00</td>\n",
       "      <td>2016-06-04 10:24:25</td>\n",
       "      <td>2016-06-04 10:26:07</td>\n",
       "      <td>790.0</td>\n",
       "    </tr>\n",
       "  </tbody>\n",
       "</table>\n",
       "</div>"
      ],
      "text/plain": [
       "   RIDE_ID           created_on      created_on_hour           started_on  \\\n",
       "0        0  2016-06-04 00:10:19  2016-06-04 00:00:00  2016-06-04 00:18:49   \n",
       "1        1  2016-06-04 01:47:39  2016-06-04 01:00:00  2016-06-04 01:50:12   \n",
       "2        2  2016-06-04 03:13:07  2016-06-04 03:00:00  2016-06-04 03:16:02   \n",
       "3        3  2016-06-04 09:52:35  2016-06-04 09:00:00  2016-06-04 10:05:13   \n",
       "4        4  2016-06-04 10:23:25  2016-06-04 10:00:00  2016-06-04 10:24:25   \n",
       "\n",
       "          completed_on  distance_travelled  \n",
       "0  2016-06-04 00:27:32              8459.0  \n",
       "1  2016-06-04 01:51:49               443.0  \n",
       "2  2016-06-04 03:17:57               568.0  \n",
       "3  2016-06-04 10:13:38              4051.0  \n",
       "4  2016-06-04 10:26:07               790.0  "
      ]
     },
     "execution_count": 2,
     "metadata": {},
     "output_type": "execute_result"
    }
   ],
   "source": [
    "df_rides = pd.read_csv('rides.csv')\n",
    "df_rides.head()"
   ]
  },
  {
   "cell_type": "markdown",
   "metadata": {
    "ExecuteTime": {
     "end_time": "2020-05-20T12:20:57.229145Z",
     "start_time": "2020-05-20T12:20:57.117310Z"
    }
   },
   "source": [
    "## Data Exploration"
   ]
  },
  {
   "cell_type": "code",
   "execution_count": 3,
   "metadata": {
    "ExecuteTime": {
     "end_time": "2020-06-02T09:35:02.863275Z",
     "start_time": "2020-06-02T09:35:02.721642Z"
    }
   },
   "outputs": [
    {
     "data": {
      "text/html": [
       "<div>\n",
       "<style scoped>\n",
       "    .dataframe tbody tr th:only-of-type {\n",
       "        vertical-align: middle;\n",
       "    }\n",
       "\n",
       "    .dataframe tbody tr th {\n",
       "        vertical-align: top;\n",
       "    }\n",
       "\n",
       "    .dataframe thead th {\n",
       "        text-align: right;\n",
       "    }\n",
       "</style>\n",
       "<table border=\"1\" class=\"dataframe\">\n",
       "  <thead>\n",
       "    <tr style=\"text-align: right;\">\n",
       "      <th></th>\n",
       "      <th>created_on_hour</th>\n",
       "      <th>rides</th>\n",
       "    </tr>\n",
       "  </thead>\n",
       "  <tbody>\n",
       "    <tr>\n",
       "      <th>0</th>\n",
       "      <td>2016-06-04 00:00:00</td>\n",
       "      <td>1</td>\n",
       "    </tr>\n",
       "    <tr>\n",
       "      <th>1</th>\n",
       "      <td>2016-06-04 01:00:00</td>\n",
       "      <td>1</td>\n",
       "    </tr>\n",
       "    <tr>\n",
       "      <th>2</th>\n",
       "      <td>2016-06-04 03:00:00</td>\n",
       "      <td>1</td>\n",
       "    </tr>\n",
       "    <tr>\n",
       "      <th>3</th>\n",
       "      <td>2016-06-04 09:00:00</td>\n",
       "      <td>1</td>\n",
       "    </tr>\n",
       "    <tr>\n",
       "      <th>4</th>\n",
       "      <td>2016-06-04 10:00:00</td>\n",
       "      <td>1</td>\n",
       "    </tr>\n",
       "  </tbody>\n",
       "</table>\n",
       "</div>"
      ],
      "text/plain": [
       "      created_on_hour  rides\n",
       "0 2016-06-04 00:00:00      1\n",
       "1 2016-06-04 01:00:00      1\n",
       "2 2016-06-04 03:00:00      1\n",
       "3 2016-06-04 09:00:00      1\n",
       "4 2016-06-04 10:00:00      1"
      ]
     },
     "execution_count": 3,
     "metadata": {},
     "output_type": "execute_result"
    }
   ],
   "source": [
    "df_hourly_rides = df_rides.groupby('created_on_hour')['RIDE_ID'].count().reset_index().rename(columns={'RIDE_ID': 'rides'})\n",
    "df_hourly_rides['created_on_hour'] = pd.to_datetime(df_hourly_rides['created_on_hour'])\n",
    "df_hourly_rides.head()"
   ]
  },
  {
   "cell_type": "markdown",
   "metadata": {
    "ExecuteTime": {
     "end_time": "2020-06-02T09:37:58.144780Z",
     "start_time": "2020-06-02T09:37:57.712022Z"
    }
   },
   "source": [
    "### Task #1"
   ]
  },
  {
   "cell_type": "markdown",
   "metadata": {},
   "source": [
    "Plot the rides overtime on a daily level. \n",
    "Is there any trend?"
   ]
  },
  {
   "cell_type": "code",
   "execution_count": null,
   "metadata": {},
   "outputs": [],
   "source": []
  },
  {
   "cell_type": "markdown",
   "metadata": {},
   "source": [
    "### Task #2"
   ]
  },
  {
   "cell_type": "markdown",
   "metadata": {},
   "source": [
    "Plot a ride distance histogram.\n",
    "What is the distribution? is it normal?"
   ]
  },
  {
   "cell_type": "code",
   "execution_count": null,
   "metadata": {},
   "outputs": [],
   "source": []
  },
  {
   "cell_type": "markdown",
   "metadata": {},
   "source": [
    "## Preprocessing"
   ]
  },
  {
   "cell_type": "code",
   "execution_count": null,
   "metadata": {
    "ExecuteTime": {
     "end_time": "2020-06-02T12:04:04.353096Z",
     "start_time": "2020-06-02T12:04:04.285427Z"
    }
   },
   "outputs": [],
   "source": [
    "df_times = pd.read_csv('times.csv')\n",
    "df_times['datetime'] = pd.to_datetime(df_times['datetime'])\n",
    "df_times.head()"
   ]
  },
  {
   "cell_type": "markdown",
   "metadata": {},
   "source": [
    "### Task #3"
   ]
  },
  {
   "cell_type": "markdown",
   "metadata": {},
   "source": [
    "You have time features in the df_times dataframe. \n",
    "Merge this dataframe with the hourly rides dataframe, so you can use those features later."
   ]
  },
  {
   "cell_type": "code",
   "execution_count": null,
   "metadata": {},
   "outputs": [],
   "source": []
  },
  {
   "cell_type": "markdown",
   "metadata": {},
   "source": [
    "### Task #4"
   ]
  },
  {
   "cell_type": "markdown",
   "metadata": {},
   "source": [
    "We would like to add a lag feature, which retrieves the amount of rides taken at the same exact hour last week. \n",
    "Please implement this feature.\n",
    "What is the correlation between current and last week's rides?"
   ]
  },
  {
   "cell_type": "code",
   "execution_count": null,
   "metadata": {},
   "outputs": [],
   "source": []
  },
  {
   "cell_type": "markdown",
   "metadata": {},
   "source": [
    "## Model"
   ]
  },
  {
   "cell_type": "code",
   "execution_count": null,
   "metadata": {
    "ExecuteTime": {
     "end_time": "2020-06-02T14:39:24.508284Z",
     "start_time": "2020-06-02T14:39:24.499026Z"
    }
   },
   "outputs": [],
   "source": [
    "from sklearn.metrics import mean_absolute_error"
   ]
  },
  {
   "cell_type": "markdown",
   "metadata": {},
   "source": [
    "### Task #5"
   ]
  },
  {
   "cell_type": "markdown",
   "metadata": {},
   "source": [
    "We would like to predict how many rides will occur every hour.\n",
    "\n",
    "As a first step, propose a simple baseline and measure its MAE (mean absolute error)"
   ]
  },
  {
   "cell_type": "code",
   "execution_count": null,
   "metadata": {
    "ExecuteTime": {
     "end_time": "2020-06-02T13:14:39.037326Z",
     "start_time": "2020-06-02T13:14:39.004775Z"
    }
   },
   "outputs": [],
   "source": [
    "train = \n",
    "test = df[(df.datetime >= '2017-03-30 00:00:00') & (df.datetime < '2017-04-13 00:00:00')]"
   ]
  },
  {
   "cell_type": "code",
   "execution_count": null,
   "metadata": {},
   "outputs": [],
   "source": []
  },
  {
   "cell_type": "markdown",
   "metadata": {},
   "source": [
    "### Task #6"
   ]
  },
  {
   "cell_type": "markdown",
   "metadata": {},
   "source": [
    "Now let's create a model and calculate its performance.\n",
    "\n",
    "Is it better than the baseline?\n",
    "\n",
    "**Use the same test set from previous task**."
   ]
  },
  {
   "cell_type": "code",
   "execution_count": null,
   "metadata": {
    "ExecuteTime": {
     "end_time": "2020-06-02T14:41:21.767379Z",
     "start_time": "2020-06-02T14:41:21.714528Z"
    }
   },
   "outputs": [],
   "source": [
    "y = ''\n",
    "X = []\n",
    "\n",
    "X_train = train[X]\n",
    "y_train = train[y]\n",
    "X_test = test[X]\n",
    "y_test = test[y]"
   ]
  },
  {
   "cell_type": "code",
   "execution_count": null,
   "metadata": {},
   "outputs": [],
   "source": []
  },
  {
   "cell_type": "markdown",
   "metadata": {},
   "source": [
    "### Task #7"
   ]
  },
  {
   "cell_type": "markdown",
   "metadata": {},
   "source": [
    "You've been offered to purchase an extension of this historical dataset going further into the past. In order to decide whether it is worthwhile, you need to estimate if there's a potential to improve the model given this data.\n",
    "\n",
    "What is your estimation and why?"
   ]
  },
  {
   "cell_type": "code",
   "execution_count": null,
   "metadata": {},
   "outputs": [],
   "source": []
  }
 ],
 "metadata": {
  "kernelspec": {
   "display_name": "Python 3 (ipykernel)",
   "language": "python",
   "name": "python3"
  },
  "language_info": {
   "codemirror_mode": {
    "name": "ipython",
    "version": 3
   },
   "file_extension": ".py",
   "mimetype": "text/x-python",
   "name": "python",
   "nbconvert_exporter": "python",
   "pygments_lexer": "ipython3",
   "version": "3.9.10"
  },
  "toc": {
   "base_numbering": 1,
   "nav_menu": {},
   "number_sections": true,
   "sideBar": true,
   "skip_h1_title": false,
   "title_cell": "Table of Contents",
   "title_sidebar": "Contents",
   "toc_cell": false,
   "toc_position": {},
   "toc_section_display": true,
   "toc_window_display": false
  }
 },
 "nbformat": 4,
 "nbformat_minor": 2
}
